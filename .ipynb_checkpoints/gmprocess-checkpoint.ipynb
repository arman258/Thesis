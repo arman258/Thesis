{
 "cells": [
  {
   "cell_type": "code",
   "execution_count": 1,
   "metadata": {},
   "outputs": [],
   "source": [
    "import gmprocess\n",
    "import os"
   ]
  },
  {
   "cell_type": "code",
   "execution_count": 3,
   "metadata": {},
   "outputs": [
    {
     "data": {
      "text/plain": [
       "['/home/arman/Thesis',\n",
       " '/home/arman/miniconda3/lib/python37.zip',\n",
       " '/home/arman/miniconda3/lib/python3.7',\n",
       " '/home/arman/miniconda3/lib/python3.7/lib-dynload',\n",
       " '',\n",
       " '/home/arman/miniconda3/lib/python3.7/site-packages',\n",
       " '/home/arman/miniconda3/lib/python3.7/site-packages/IPython/extensions',\n",
       " '/home/arman/.ipython']"
      ]
     },
     "execution_count": 3,
     "metadata": {},
     "output_type": "execute_result"
    }
   ],
   "source": [
    "import sys, pprint\n",
    "\n",
    "sys.path"
   ]
  },
  {
   "cell_type": "code",
   "execution_count": 53,
   "metadata": {},
   "outputs": [
    {
     "data": {
      "text/plain": [
       "['.git',\n",
       " 'README.md',\n",
       " 'Test.ipynb',\n",
       " '.ipynb_checkpoints',\n",
       " 'text.xml',\n",
       " 'events.xml',\n",
       " 'station.txt',\n",
       " 'EQ events.png',\n",
       " 'stations.png',\n",
       " 'gmprocess.ipynb',\n",
       " 'eq']"
      ]
     },
     "execution_count": 53,
     "metadata": {},
     "output_type": "execute_result"
    }
   ],
   "source": [
    "os.listdir()"
   ]
  },
  {
   "cell_type": "code",
   "execution_count": 4,
   "metadata": {},
   "outputs": [
    {
     "data": {
      "text/plain": [
       "'/home/arman/Thesis'"
      ]
     },
     "execution_count": 4,
     "metadata": {},
     "output_type": "execute_result"
    }
   ],
   "source": [
    "os.getcwd() "
   ]
  },
  {
   "cell_type": "code",
   "execution_count": 25,
   "metadata": {},
   "outputs": [
    {
     "name": "stdout",
     "output_type": "stream",
     "text": [
      "/home/arman/miniconda3/envs/gmprocess/lib/python3.7/site-packages/obspy/core/util/base.py:388: UserWarning: 'Proj.proj_version' is deprecated. Please use `pyproj.proj_version_str` instead.\n",
      "  if hasattr(_proj, 'proj_version'):\n",
      "/home/arman/miniconda3/envs/gmprocess/lib/python3.7/site-packages/obspy/core/util/base.py:389: UserWarning: 'Proj.proj_version' is deprecated. Please use `pyproj.proj_version_str` instead.\n",
      "  version_string = str(getattr(_proj, 'proj_version'))\n",
      "No event information was found. Exiting.\n"
     ]
    }
   ],
   "source": [
    "!gmprocess -o=gmprocess"
   ]
  },
  {
   "cell_type": "code",
   "execution_count": 107,
   "metadata": {},
   "outputs": [],
   "source": [
    "!gmsetup eq/cyprus.yml -o"
   ]
  },
  {
   "cell_type": "code",
   "execution_count": 39,
   "metadata": {},
   "outputs": [
    {
     "name": "stdout",
     "output_type": "stream",
     "text": [
      "/home/arman/miniconda3/lib/python3.7/site-packages/obspy/core/util/base.py:388: UserWarning: 'Proj.proj_version' is deprecated. Please use `pyproj.proj_version_str` instead.\n",
      "  if hasattr(_proj, 'proj_version'):\n",
      "/home/arman/miniconda3/lib/python3.7/site-packages/obspy/core/util/base.py:389: UserWarning: 'Proj.proj_version' is deprecated. Please use `pyproj.proj_version_str` instead.\n",
      "  version_string = str(getattr(_proj, 'proj_version'))\n",
      "^C\n",
      "Traceback (most recent call last):\n",
      "  File \"/home/arman/miniconda3/bin/gmprocess\", line 760, in <module>\n",
      "    main(pargs)\n",
      "  File \"/home/arman/miniconda3/bin/gmprocess\", line 457, in main\n",
      "    export_dir=args.export_dir)\n",
      "  File \"/home/arman/miniconda3/bin/gmprocess\", line 136, in process_event\n",
      "    event, event_dir, config, input_directory)\n",
      "  File \"/home/arman/miniconda3/lib/python3.7/site-packages/gmprocess/io/fetch_utils.py\", line 80, in download\n",
      "    rawdir=rawdir)\n",
      "  File \"/home/arman/miniconda3/lib/python3.7/site-packages/gmprocess/io/global_fetcher.py\", line 76, in fetch_data\n",
      "    tstreams = fetcher.retrieveData()\n",
      "  File \"/home/arman/miniconda3/lib/python3.7/site-packages/gmprocess/io/fdsn/fdsn_fetcher.py\", line 275, in retrieveData\n",
      "    stationxml_storage=rawdir)\n",
      "  File \"/home/arman/miniconda3/lib/python3.7/site-packages/obspy/clients/fdsn/mass_downloader/mass_downloader.py\", line 211, in download\n",
      "    helper.download_stationxml()\n",
      "  File \"/home/arman/miniconda3/lib/python3.7/site-packages/obspy/clients/fdsn/mass_downloader/download_helpers.py\", line 706, in download_stationxml\n",
      "    results = pool.map(star_download_station, arguments)\n",
      "  File \"/home/arman/miniconda3/lib/python3.7/multiprocessing/pool.py\", line 268, in map\n",
      "    return self._map_async(func, iterable, mapstar, chunksize).get()\n",
      "  File \"/home/arman/miniconda3/lib/python3.7/multiprocessing/pool.py\", line 651, in get\n",
      "    self.wait(timeout)\n",
      "  File \"/home/arman/miniconda3/lib/python3.7/multiprocessing/pool.py\", line 648, in wait\n",
      "    self._event.wait(timeout)\n",
      "  File \"/home/arman/miniconda3/lib/python3.7/threading.py\", line 552, in wait\n",
      "    signaled = self._cond.wait(timeout)\n",
      "  File \"/home/arman/miniconda3/lib/python3.7/threading.py\", line 296, in wait\n",
      "    waiter.acquire()\n",
      "KeyboardInterrupt\n"
     ]
    }
   ],
   "source": [
    "!gmprocess --assemble --eventids us200026mv -o test --config cyprus.yml"
   ]
  },
  {
   "cell_type": "code",
   "execution_count": 26,
   "metadata": {},
   "outputs": [
    {
     "name": "stdout",
     "output_type": "stream",
     "text": [
      "/home/arman/miniconda3/lib/python3.7/site-packages/obspy/core/util/base.py:388: UserWarning: 'Proj.proj_version' is deprecated. Please use `pyproj.proj_version_str` instead.\n",
      "  if hasattr(_proj, 'proj_version'):\n",
      "/home/arman/miniconda3/lib/python3.7/site-packages/obspy/core/util/base.py:389: UserWarning: 'Proj.proj_version' is deprecated. Please use `pyproj.proj_version_str` instead.\n",
      "  version_string = str(getattr(_proj, 'proj_version'))\n",
      "Traceback (most recent call last):\n",
      "  File \"/home/arman/miniconda3/bin/gmprocess\", line 760, in <module>\n",
      "    main(pargs)\n",
      "  File \"/home/arman/miniconda3/bin/gmprocess\", line 384, in main\n",
      "    eventids, textfile, eventinfo, input_directory, outdir\n",
      "  File \"/home/arman/miniconda3/lib/python3.7/site-packages/gmprocess/io/fetch_utils.py\", line 320, in get_events\n",
      "    eventids = [f for f in os.listdir(directory)\n",
      "NotADirectoryError: [Errno 20] Not a directory: 'cyprus.miniseed'\n"
     ]
    }
   ],
   "source": [
    "!gmprocess -o test --assemble --d"
   ]
  },
  {
   "cell_type": "code",
   "execution_count": 31,
   "metadata": {},
   "outputs": [
    {
     "name": "stdout",
     "output_type": "stream",
     "text": [
      "/home/arman/miniconda3/lib/python3.7/site-packages/obspy/core/util/base.py:388: UserWarning: 'Proj.proj_version' is deprecated. Please use `pyproj.proj_version_str` instead.\n",
      "  if hasattr(_proj, 'proj_version'):\n",
      "/home/arman/miniconda3/lib/python3.7/site-packages/obspy/core/util/base.py:389: UserWarning: 'Proj.proj_version' is deprecated. Please use `pyproj.proj_version_str` instead.\n",
      "  version_string = str(getattr(_proj, 'proj_version'))\n",
      "WARNING:root:Could not get info for event id: abc\n",
      "No event information was found. Exiting.\n"
     ]
    }
   ],
   "source": [
    "!gmprocess -o "
   ]
  }
 ],
 "metadata": {
  "kernelspec": {
   "display_name": "Python 3",
   "language": "python",
   "name": "python3"
  },
  "language_info": {
   "codemirror_mode": {
    "name": "ipython",
    "version": 3
   },
   "file_extension": ".py",
   "mimetype": "text/x-python",
   "name": "python",
   "nbconvert_exporter": "python",
   "pygments_lexer": "ipython3",
   "version": "3.7.6"
  }
 },
 "nbformat": 4,
 "nbformat_minor": 4
}
