{
 "cells": [
  {
   "cell_type": "code",
   "execution_count": 1,
   "metadata": {},
   "outputs": [],
   "source": [
    "import gmprocess\n",
    "import os"
   ]
  },
  {
   "cell_type": "code",
   "execution_count": 3,
   "metadata": {},
   "outputs": [
    {
     "data": {
      "text/plain": [
       "['/home/arman/Thesis',\n",
       " '/home/arman/miniconda3/lib/python37.zip',\n",
       " '/home/arman/miniconda3/lib/python3.7',\n",
       " '/home/arman/miniconda3/lib/python3.7/lib-dynload',\n",
       " '',\n",
       " '/home/arman/miniconda3/lib/python3.7/site-packages',\n",
       " '/home/arman/miniconda3/lib/python3.7/site-packages/IPython/extensions',\n",
       " '/home/arman/.ipython']"
      ]
     },
     "execution_count": 3,
     "metadata": {},
     "output_type": "execute_result"
    }
   ],
   "source": [
    "import sys, pprint\n",
    "\n",
    "sys.path"
   ]
  },
  {
   "cell_type": "code",
   "execution_count": 53,
   "metadata": {},
   "outputs": [
    {
     "data": {
      "text/plain": [
       "['.git',\n",
       " 'README.md',\n",
       " 'Test.ipynb',\n",
       " '.ipynb_checkpoints',\n",
       " 'text.xml',\n",
       " 'events.xml',\n",
       " 'station.txt',\n",
       " 'EQ events.png',\n",
       " 'stations.png',\n",
       " 'gmprocess.ipynb',\n",
       " 'eq']"
      ]
     },
     "execution_count": 53,
     "metadata": {},
     "output_type": "execute_result"
    }
   ],
   "source": [
    "os.listdir()"
   ]
  },
  {
   "cell_type": "code",
   "execution_count": 4,
   "metadata": {},
   "outputs": [
    {
     "data": {
      "text/plain": [
       "'/home/arman/Thesis'"
      ]
     },
     "execution_count": 4,
     "metadata": {},
     "output_type": "execute_result"
    }
   ],
   "source": [
    "os.getcwd() "
   ]
  },
  {
   "cell_type": "code",
   "execution_count": 17,
   "metadata": {},
   "outputs": [],
   "source": [
    "!gmsetup -o eq/test.yml"
   ]
  },
  {
   "cell_type": "code",
   "execution_count": 107,
   "metadata": {},
   "outputs": [],
   "source": [
    "!gmsetup eq/cyprus.yml -o"
   ]
  },
  {
   "cell_type": "code",
   "execution_count": null,
   "metadata": {},
   "outputs": [],
   "source": [
    "!gmprocess --assemble --eventids us20005c9s -o test --config cyprus.yml"
   ]
  },
  {
   "cell_type": "code",
   "execution_count": 20,
   "metadata": {},
   "outputs": [
    {
     "name": "stdout",
     "output_type": "stream",
     "text": [
      "/home/arman/miniconda3/lib/python3.7/site-packages/obspy/core/util/base.py:388: UserWarning: 'Proj.proj_version' is deprecated. Please use `pyproj.proj_version_str` instead.\n",
      "  if hasattr(_proj, 'proj_version'):\n",
      "/home/arman/miniconda3/lib/python3.7/site-packages/obspy/core/util/base.py:389: UserWarning: 'Proj.proj_version' is deprecated. Please use `pyproj.proj_version_str` instead.\n",
      "  version_string = str(getattr(_proj, 'proj_version'))\n",
      "Downloading/loading raw streams...\n",
      "Attempting to read: /tmp/tmprkaqj00o/directory_to_streams/KO.AKDN..HNN.MSEED\n",
      "Checking if format is cosmos.\n",
      "Checking if format is cwb.\n",
      "Checking if format is dmg.\n",
      "Checking if format is esm.\n",
      "Checking if format is Obspy.\n",
      "Checking if format is geonet.\n",
      "Checking if format is knet.\n",
      "Checking if format is smc.\n",
      "Checking if format is usc.\n",
      "Starting read_fdsn.\n",
      "Checking if format is Obspy.\n",
      "1 StationTrace(s) in StationStream (passed):\n",
      "KO.AKDN.--.HNN | 2014-06-19T20:29:47.000000Z - 2014-06-19T20:34:47.000000Z | 100.0 Hz, 30001 samples (passed)\n",
      "Attempting to read: /tmp/tmprkaqj00o/directory_to_streams/KO.AKDN..HNZ.MSEED\n",
      "Checking if format is cosmos.\n",
      "Checking if format is cwb.\n",
      "Checking if format is dmg.\n",
      "Checking if format is esm.\n",
      "Checking if format is Obspy.\n",
      "Checking if format is geonet.\n",
      "Checking if format is knet.\n",
      "Checking if format is smc.\n",
      "Checking if format is usc.\n",
      "Starting read_fdsn.\n",
      "Checking if format is Obspy.\n",
      "1 StationTrace(s) in StationStream (passed):\n",
      "KO.AKDN.--.HNZ | 2014-06-19T20:32:13.000000Z - 2014-06-19T20:34:47.000000Z | 100.0 Hz, 15401 samples (passed)\n",
      "Attempting to read: /tmp/tmprkaqj00o/directory_to_streams/KO.AKDN..HNE.MSEED\n",
      "Checking if format is cosmos.\n",
      "Checking if format is cwb.\n",
      "Checking if format is dmg.\n",
      "Checking if format is esm.\n",
      "Checking if format is Obspy.\n",
      "Checking if format is geonet.\n",
      "Checking if format is knet.\n",
      "Checking if format is smc.\n",
      "Checking if format is usc.\n",
      "Starting read_fdsn.\n",
      "Checking if format is Obspy.\n",
      "1 StationTrace(s) in StationStream (passed):\n",
      "KO.AKDN.--.HNE | 2014-06-19T20:29:47.000000Z - 2014-06-19T20:34:47.000000Z | 100.0 Hz, 30001 samples (passed)\n",
      "Attempting to read: /tmp/tmprkaqj00o/directory_to_streams/KO.AKDN.xml\n",
      "Checking if format is cosmos.\n",
      "Checking if format is cwb.\n",
      "Checking if format is dmg.\n",
      "Checking if format is esm.\n",
      "Checking if format is Obspy.\n",
      "Checking if format is geonet.\n",
      "Checking if format is knet.\n",
      "Checking if format is smc.\n",
      "Checking if format is usc.\n",
      "KO.AKDN.HN\n",
      "KO.AKDN.HN\n",
      "KO.AKDN.HN\n",
      "1 StationTrace(s) in StationStream (passed):\n",
      "KO.AKDN.--.HNN | 2014-06-19T20:29:47.000000Z - 2014-06-19T20:34:47.000000Z | 100.0 Hz, 30001 samples (passed)\n",
      "1 StationTrace(s) in StationStream (passed):\n",
      "KO.AKDN.--.HNZ | 2014-06-19T20:32:13.000000Z - 2014-06-19T20:34:47.000000Z | 100.0 Hz, 15401 samples (passed)\n",
      "1 StationTrace(s) in StationStream (passed):\n",
      "KO.AKDN.--.HNE | 2014-06-19T20:29:47.000000Z - 2014-06-19T20:34:47.000000Z | 100.0 Hz, 30001 samples (passed)\n",
      "3 StationTrace(s) in StationStream (passed):\n",
      "KO.AKDN.--.HNN | 2014-06-19T20:32:13.000000Z - 2014-06-19T20:34:47.000000Z | 100.0 Hz, 15401 samples (passed)\n",
      "KO.AKDN.--.HNZ | 2014-06-19T20:32:13.000000Z - 2014-06-19T20:34:47.000000Z | 100.0 Hz, 15401 samples (passed)\n",
      "KO.AKDN.--.HNE | 2014-06-19T20:32:13.000000Z - 2014-06-19T20:34:47.000000Z | 100.0 Hz, 15401 samples (passed)\n",
      "Exception \"list index out of range\" generated by get_travel_times() dist=105.374 depth=5.5\n",
      "Adding waveforms for station AKDN\n",
      "RDFLib Version: 4.2.2\n",
      "trace: KO.AKDN.--.HNN | 2014-06-19T20:32:13.000000Z - 2014-06-19T20:34:47.000000Z | 100.0 Hz, 15401 samples (passed)\n",
      "channel: HNN\n",
      "trace: KO.AKDN.--.HNZ | 2014-06-19T20:32:13.000000Z - 2014-06-19T20:34:47.000000Z | 100.0 Hz, 15401 samples (passed)\n",
      "channel: HNZ\n",
      "trace: KO.AKDN.--.HNE | 2014-06-19T20:32:13.000000Z - 2014-06-19T20:34:47.000000Z | 100.0 Hz, 15401 samples (passed)\n",
      "channel: HNE\n",
      "Finishing event ci38038071\n",
      "INFO 2020-04-09 19:30:38 | gmprocess.main: 1 workspace files created\n",
      "\n",
      "The following files have been created:\n",
      "File type: Workspace\n",
      "\ttest/ci38038071/workspace.hdf\n",
      "\n",
      "Elapsed processing time: 0 minutes, 1 seconds.\n",
      "\n",
      "Processing is complete.\n",
      "\n"
     ]
    }
   ],
   "source": [
    "!gmprocess -o test --assemble --directory eq1 --config test.yml"
   ]
  },
  {
   "cell_type": "code",
   "execution_count": 21,
   "metadata": {},
   "outputs": [
    {
     "name": "stdout",
     "output_type": "stream",
     "text": [
      "/home/arman/miniconda3/lib/python3.7/site-packages/obspy/core/util/base.py:388: UserWarning: 'Proj.proj_version' is deprecated. Please use `pyproj.proj_version_str` instead.\n",
      "  if hasattr(_proj, 'proj_version'):\n",
      "/home/arman/miniconda3/lib/python3.7/site-packages/obspy/core/util/base.py:389: UserWarning: 'Proj.proj_version' is deprecated. Please use `pyproj.proj_version_str` instead.\n",
      "  version_string = str(getattr(_proj, 'proj_version'))\n",
      "Getting raw streams from workspace...\n",
      "RDFLib Version: 4.2.2\n",
      "1 StationTrace(s) in StationStream (passed):\n",
      "KO.AKDN.--.HNE | 2014-06-19T20:32:13.000000Z - 2014-06-19T20:34:47.000000Z | 100.0 Hz, 15401 samples (passed)\n",
      "1 StationTrace(s) in StationStream (passed):\n",
      "KO.AKDN.--.HNN | 2014-06-19T20:32:13.000000Z - 2014-06-19T20:34:47.000000Z | 100.0 Hz, 15401 samples (passed)\n",
      "1 StationTrace(s) in StationStream (passed):\n",
      "KO.AKDN.--.HNZ | 2014-06-19T20:32:13.000000Z - 2014-06-19T20:34:47.000000Z | 100.0 Hz, 15401 samples (passed)\n",
      "KO.AKDN.HN\n",
      "KO.AKDN.HN\n",
      "KO.AKDN.HN\n",
      "1 StationTrace(s) in StationStream (passed):\n",
      "KO.AKDN.--.HNE | 2014-06-19T20:32:13.000000Z - 2014-06-19T20:34:47.000000Z | 100.0 Hz, 15401 samples (passed)\n",
      "1 StationTrace(s) in StationStream (passed):\n",
      "KO.AKDN.--.HNN | 2014-06-19T20:32:13.000000Z - 2014-06-19T20:34:47.000000Z | 100.0 Hz, 15401 samples (passed)\n",
      "1 StationTrace(s) in StationStream (passed):\n",
      "KO.AKDN.--.HNZ | 2014-06-19T20:32:13.000000Z - 2014-06-19T20:34:47.000000Z | 100.0 Hz, 15401 samples (passed)\n",
      "3 StationTrace(s) in StationStream (passed):\n",
      "KO.AKDN.--.HNE | 2014-06-19T20:32:13.000000Z - 2014-06-19T20:34:47.000000Z | 100.0 Hz, 15401 samples (passed)\n",
      "KO.AKDN.--.HNN | 2014-06-19T20:32:13.000000Z - 2014-06-19T20:34:47.000000Z | 100.0 Hz, 15401 samples (passed)\n",
      "KO.AKDN.--.HNZ | 2014-06-19T20:32:13.000000Z - 2014-06-19T20:34:47.000000Z | 100.0 Hz, 15401 samples (passed)\n",
      "Processing raw streams for event ci38038071...\n",
      "Processing streams...\n",
      "Windowing noise and signal...\n",
      "Checking stream KO.AKDN.HN...\n",
      "1 StationTrace(s) in StationStream (passed):\n",
      "KO.AKDN.--.HNE | 2014-06-19T20:32:13.000000Z - 2014-06-19T20:34:47.000000Z | 100.0 Hz, 15401 samples (passed)\n",
      "1 StationTrace(s) in StationStream (passed):\n",
      "KO.AKDN.--.HNN | 2014-06-19T20:32:13.000000Z - 2014-06-19T20:34:47.000000Z | 100.0 Hz, 15401 samples (passed)\n",
      "1 StationTrace(s) in StationStream (passed):\n",
      "KO.AKDN.--.HNZ | 2014-06-19T20:32:13.000000Z - 2014-06-19T20:34:47.000000Z | 100.0 Hz, 15401 samples (passed)\n",
      "Starting processing...\n",
      "Stream: KO.AKDN.HN\n",
      "Processing step: check_free_field\n",
      "Processing step: max_traces\n",
      "Starting max_traces\n",
      "len(st) = 3\n",
      "Processing step: min_sample_rate\n",
      "Processing step: detrend\n",
      "Processing step: check_zero_crossings\n",
      "Processing step: remove_response\n",
      "trace: KO.AKDN.--.HNE | 2014-06-19T20:32:13.000000Z - 2014-06-19T20:34:47.000000Z | 100.0 Hz, 15401 samples (passed)\n",
      "channel: HNE\n",
      "trace: KO.AKDN.--.HNN | 2014-06-19T20:32:13.000000Z - 2014-06-19T20:34:47.000000Z | 100.0 Hz, 15401 samples (passed)\n",
      "channel: HNN\n",
      "trace: KO.AKDN.--.HNZ | 2014-06-19T20:32:13.000000Z - 2014-06-19T20:34:47.000000Z | 100.0 Hz, 15401 samples (passed)\n",
      "channel: HNZ\n",
      "Processing step: detrend\n",
      "Processing step: detrend\n",
      "Processing step: get_corner_frequencies\n",
      "Setting corner frequencies...\n",
      "Processing step: lowpass_max_frequency\n",
      "Processing step: cut\n",
      "Before cut end time: 2014-06-19T20:34:47.000000Z\n",
      "After cut end time: 2014-06-19T20:34:47.000000Z\n",
      "Before cut start time: 2014-06-19T20:32:13.000000Z\n",
      "After cut start time: 2014-06-19T20:32:13.000000Z\n",
      "Before cut end time: 2014-06-19T20:34:47.000000Z\n",
      "After cut end time: 2014-06-19T20:34:47.000000Z\n",
      "Before cut start time: 2014-06-19T20:32:13.000000Z\n",
      "After cut start time: 2014-06-19T20:32:13.000000Z\n",
      "Before cut end time: 2014-06-19T20:34:47.000000Z\n",
      "After cut end time: 2014-06-19T20:34:47.000000Z\n",
      "Before cut start time: 2014-06-19T20:32:13.000000Z\n",
      "After cut start time: 2014-06-19T20:32:13.000000Z\n",
      "Processing step: taper\n",
      "Processing step: highpass_filter\n",
      "Processing step: lowpass_filter\n",
      "Processing step: fit_spectra\n",
      "Finished processing streams.\n",
      "Adding waveforms for station AKDN\n",
      "trace: KO.AKDN.--.HNE | 2014-06-19T20:32:13.000000Z - 2014-06-19T20:34:47.000000Z | 100.0 Hz, 15401 samples (passed)\n",
      "channel: HNE\n",
      "trace: KO.AKDN.--.HNN | 2014-06-19T20:32:13.000000Z - 2014-06-19T20:34:47.000000Z | 100.0 Hz, 15401 samples (passed)\n",
      "channel: HNN\n",
      "trace: KO.AKDN.--.HNZ | 2014-06-19T20:32:13.000000Z - 2014-06-19T20:34:47.000000Z | 100.0 Hz, 15401 samples (passed)\n",
      "channel: HNZ\n",
      "/home/arman/miniconda3/lib/python3.7/site-packages/obspy/core/event/resourceid.py:628: UserWarning: overwritting the id attribute of a ResourceIdentifierobject is very dangerous and will raise an exception in a future version of obspy\n",
      "warnings.warn(msg, UserWarning)\n",
      "\n",
      "Calculating stream metrics for KO.AKDN.HN...\n",
      "3 StationTrace(s) in StationStream (passed):\n",
      "KO.AKDN.--.HNE | 2014-06-19T20:32:13.000000Z - 2014-06-19T20:34:47.000000Z | 100.0 Hz, 15401 samples (passed)\n",
      "KO.AKDN.--.HNN | 2014-06-19T20:32:13.000000Z - 2014-06-19T20:34:47.000000Z | 100.0 Hz, 15401 samples (passed)\n",
      "KO.AKDN.--.HNZ | 2014-06-19T20:32:13.000000Z - 2014-06-19T20:34:47.000000Z | 100.0 Hz, 15401 samples (passed)\n",
      "3 StationTrace(s) in StationStream (passed):\n",
      "KO.AKDN.--.HNE | 2014-06-19T20:32:13.000000Z - 2014-06-19T20:34:47.000000Z | 100.0 Hz, 15401 samples (passed)\n",
      "KO.AKDN.--.HNN | 2014-06-19T20:32:13.000000Z - 2014-06-19T20:34:47.000000Z | 100.0 Hz, 15401 samples (passed)\n",
      "KO.AKDN.--.HNZ | 2014-06-19T20:32:13.000000Z - 2014-06-19T20:34:47.000000Z | 100.0 Hz, 15401 samples (passed)\n",
      "0 StationTrace(s) in StationStream (passed):\n",
      "\n",
      "0 StationTrace(s) in StationStream (passed):\n",
      "\n",
      "3 StationTrace(s) in StationStream (passed):\n",
      "KO.AKDN.--.HNE | 2014-06-19T20:32:13.000000Z - 2014-06-19T20:34:47.000000Z | 100.0 Hz, 15401 samples (passed)\n",
      "KO.AKDN.--.HNN | 2014-06-19T20:32:13.000000Z - 2014-06-19T20:34:47.000000Z | 100.0 Hz, 15401 samples (passed)\n",
      "KO.AKDN.--.HNZ | 2014-06-19T20:32:13.000000Z - 2014-06-19T20:34:47.000000Z | 100.0 Hz, 15401 samples (passed)\n",
      "3 StationTrace(s) in StationStream (passed):\n",
      "KO.AKDN.--.HNE | 2014-06-19T20:32:13.000000Z - 2014-06-19T20:34:47.000000Z | 100.0 Hz, 15401 samples (passed)\n",
      "KO.AKDN.--.HNN | 2014-06-19T20:32:13.000000Z - 2014-06-19T20:34:47.000000Z | 100.0 Hz, 15401 samples (passed)\n",
      "KO.AKDN.--.HNZ | 2014-06-19T20:32:13.000000Z - 2014-06-19T20:34:47.000000Z | 100.0 Hz, 15401 samples (passed)\n",
      "3 StationTrace(s) in StationStream (passed):\n",
      "KO.AKDN.--.HNE | 2014-06-19T20:32:13.000000Z - 2014-06-19T20:34:47.000000Z | 100.0 Hz, 15401 samples (passed)\n",
      "KO.AKDN.--.HNN | 2014-06-19T20:32:13.000000Z - 2014-06-19T20:34:47.000000Z | 100.0 Hz, 15401 samples (passed)\n",
      "KO.AKDN.--.HNZ | 2014-06-19T20:32:13.000000Z - 2014-06-19T20:34:47.000000Z | 100.0 Hz, 15401 samples (passed)\n",
      "3 StationTrace(s) in StationStream (passed):\n",
      "KO.AKDN.--.HNE | 2014-06-19T20:32:13.000000Z - 2014-06-19T20:34:47.000000Z | 100.0 Hz, 15401 samples (passed)\n",
      "KO.AKDN.--.HNN | 2014-06-19T20:32:13.000000Z - 2014-06-19T20:34:47.000000Z | 100.0 Hz, 15401 samples (passed)\n",
      "KO.AKDN.--.HNZ | 2014-06-19T20:32:13.000000Z - 2014-06-19T20:34:47.000000Z | 100.0 Hz, 15401 samples (passed)\n",
      "Finishing event ci38038071\n",
      "INFO 2020-04-09 19:30:49 | gmprocess.main: 1 workspace files created\n",
      "\n",
      "The following files have been created:\n",
      "\n",
      "Elapsed processing time: 0 minutes, 4 seconds.\n",
      "\n",
      "Processing is complete.\n",
      "\n"
     ]
    }
   ],
   "source": [
    "!gmprocess --process -o test --config test.yml"
   ]
  },
  {
   "cell_type": "code",
   "execution_count": 23,
   "metadata": {},
   "outputs": [
    {
     "name": "stdout",
     "output_type": "stream",
     "text": [
      "/home/arman/miniconda3/lib/python3.7/site-packages/obspy/core/util/base.py:388: UserWarning: 'Proj.proj_version' is deprecated. Please use `pyproj.proj_version_str` instead.\n",
      "  if hasattr(_proj, 'proj_version'):\n",
      "/home/arman/miniconda3/lib/python3.7/site-packages/obspy/core/util/base.py:389: UserWarning: 'Proj.proj_version' is deprecated. Please use `pyproj.proj_version_str` instead.\n",
      "  version_string = str(getattr(_proj, 'proj_version'))\n",
      "Getting processed streams from workspace...\n",
      "RDFLib Version: 4.2.2\n",
      "1 StationTrace(s) in StationStream (passed):\n",
      "KO.AKDN.--.HNE | 2014-06-19T20:32:13.000000Z - 2014-06-19T20:34:47.000000Z | 100.0 Hz, 15401 samples (passed)\n",
      "1 StationTrace(s) in StationStream (passed):\n",
      "KO.AKDN.--.HNN | 2014-06-19T20:32:13.000000Z - 2014-06-19T20:34:47.000000Z | 100.0 Hz, 15401 samples (passed)\n",
      "1 StationTrace(s) in StationStream (passed):\n",
      "KO.AKDN.--.HNZ | 2014-06-19T20:32:13.000000Z - 2014-06-19T20:34:47.000000Z | 100.0 Hz, 15401 samples (passed)\n",
      "KO.AKDN.HN\n",
      "KO.AKDN.HN\n",
      "KO.AKDN.HN\n",
      "1 StationTrace(s) in StationStream (passed):\n",
      "KO.AKDN.--.HNE | 2014-06-19T20:32:13.000000Z - 2014-06-19T20:34:47.000000Z | 100.0 Hz, 15401 samples (passed)\n",
      "1 StationTrace(s) in StationStream (passed):\n",
      "KO.AKDN.--.HNN | 2014-06-19T20:32:13.000000Z - 2014-06-19T20:34:47.000000Z | 100.0 Hz, 15401 samples (passed)\n",
      "1 StationTrace(s) in StationStream (passed):\n",
      "KO.AKDN.--.HNZ | 2014-06-19T20:32:13.000000Z - 2014-06-19T20:34:47.000000Z | 100.0 Hz, 15401 samples (passed)\n",
      "3 StationTrace(s) in StationStream (passed):\n",
      "KO.AKDN.--.HNE | 2014-06-19T20:32:13.000000Z - 2014-06-19T20:34:47.000000Z | 100.0 Hz, 15401 samples (passed)\n",
      "KO.AKDN.--.HNN | 2014-06-19T20:32:13.000000Z - 2014-06-19T20:34:47.000000Z | 100.0 Hz, 15401 samples (passed)\n",
      "KO.AKDN.--.HNZ | 2014-06-19T20:32:13.000000Z - 2014-06-19T20:34:47.000000Z | 100.0 Hz, 15401 samples (passed)\n",
      "Creating diagnostic plots for event ci38038071...\n",
      "stream_id: KO.AKDN.HN\n",
      "passed: True\n",
      "/home/arman/miniconda3/lib/python3.7/site-packages/gmprocess/plot.py:495: UserWarning: Matplotlib is currently using agg, which is a non-GUI backend, so cannot show the figure.\n",
      "plt.show()\n",
      "\n",
      "Creating diagnostic report for event ci38038071...\n",
      "Finishing event ci38038071\n",
      "INFO 2020-04-09 19:31:18 | gmprocess.main: 1 workspace files created\n",
      "\n",
      "The following files have been created:\n",
      "File type: Station map\n",
      "\ttest/ci38038071/stations_map.png\n",
      "File type: Moveout plot\n",
      "\tmoveout_plot.png\n",
      "File type: Summary report\n",
      "\ttest/ci38038071/report_ci38038071.pdf\n",
      "\n",
      "Elapsed processing time: 0 minutes, 4 seconds.\n",
      "\n",
      "Processing is complete.\n",
      "\n"
     ]
    }
   ],
   "source": [
    "!gmprocess -o test --report "
   ]
  },
  {
   "cell_type": "code",
   "execution_count": 24,
   "metadata": {},
   "outputs": [
    {
     "name": "stdout",
     "output_type": "stream",
     "text": [
      "/home/arman/miniconda3/lib/python3.7/site-packages/obspy/core/util/base.py:388: UserWarning: 'Proj.proj_version' is deprecated. Please use `pyproj.proj_version_str` instead.\n",
      "  if hasattr(_proj, 'proj_version'):\n",
      "/home/arman/miniconda3/lib/python3.7/site-packages/obspy/core/util/base.py:389: UserWarning: 'Proj.proj_version' is deprecated. Please use `pyproj.proj_version_str` instead.\n",
      "  version_string = str(getattr(_proj, 'proj_version'))\n",
      "Getting processed streams from workspace...\n",
      "RDFLib Version: 4.2.2\n",
      "1 StationTrace(s) in StationStream (passed):\n",
      "KO.AKDN.--.HNE | 2014-06-19T20:32:13.000000Z - 2014-06-19T20:34:47.000000Z | 100.0 Hz, 15401 samples (passed)\n",
      "1 StationTrace(s) in StationStream (passed):\n",
      "KO.AKDN.--.HNN | 2014-06-19T20:32:13.000000Z - 2014-06-19T20:34:47.000000Z | 100.0 Hz, 15401 samples (passed)\n",
      "1 StationTrace(s) in StationStream (passed):\n",
      "KO.AKDN.--.HNZ | 2014-06-19T20:32:13.000000Z - 2014-06-19T20:34:47.000000Z | 100.0 Hz, 15401 samples (passed)\n",
      "KO.AKDN.HN\n",
      "KO.AKDN.HN\n",
      "KO.AKDN.HN\n",
      "1 StationTrace(s) in StationStream (passed):\n",
      "KO.AKDN.--.HNE | 2014-06-19T20:32:13.000000Z - 2014-06-19T20:34:47.000000Z | 100.0 Hz, 15401 samples (passed)\n",
      "1 StationTrace(s) in StationStream (passed):\n",
      "KO.AKDN.--.HNN | 2014-06-19T20:32:13.000000Z - 2014-06-19T20:34:47.000000Z | 100.0 Hz, 15401 samples (passed)\n",
      "1 StationTrace(s) in StationStream (passed):\n",
      "KO.AKDN.--.HNZ | 2014-06-19T20:32:13.000000Z - 2014-06-19T20:34:47.000000Z | 100.0 Hz, 15401 samples (passed)\n",
      "3 StationTrace(s) in StationStream (passed):\n",
      "KO.AKDN.--.HNE | 2014-06-19T20:32:13.000000Z - 2014-06-19T20:34:47.000000Z | 100.0 Hz, 15401 samples (passed)\n",
      "KO.AKDN.--.HNN | 2014-06-19T20:32:13.000000Z - 2014-06-19T20:34:47.000000Z | 100.0 Hz, 15401 samples (passed)\n",
      "KO.AKDN.--.HNZ | 2014-06-19T20:32:13.000000Z - 2014-06-19T20:34:47.000000Z | 100.0 Hz, 15401 samples (passed)\n",
      "Creating shakemap table for event ci38038071...\n",
      "3 StationTrace(s) in StationStream (passed):\n",
      "KO.AKDN.--.HNE | 2014-06-19T20:32:13.000000Z - 2014-06-19T20:34:47.000000Z | 100.0 Hz, 15401 samples (passed)\n",
      "KO.AKDN.--.HNN | 2014-06-19T20:32:13.000000Z - 2014-06-19T20:34:47.000000Z | 100.0 Hz, 15401 samples (passed)\n",
      "KO.AKDN.--.HNZ | 2014-06-19T20:32:13.000000Z - 2014-06-19T20:34:47.000000Z | 100.0 Hz, 15401 samples (passed)\n",
      "3 StationTrace(s) in StationStream (passed):\n",
      "KO.AKDN.--.HNE | 2014-06-19T20:32:13.000000Z - 2014-06-19T20:34:47.000000Z | 100.0 Hz, 15401 samples (passed)\n",
      "KO.AKDN.--.HNN | 2014-06-19T20:32:13.000000Z - 2014-06-19T20:34:47.000000Z | 100.0 Hz, 15401 samples (passed)\n",
      "KO.AKDN.--.HNZ | 2014-06-19T20:32:13.000000Z - 2014-06-19T20:34:47.000000Z | 100.0 Hz, 15401 samples (passed)\n",
      "0 StationTrace(s) in StationStream (passed):\n",
      "\n",
      "0 StationTrace(s) in StationStream (passed):\n",
      "\n",
      "3 StationTrace(s) in StationStream (passed):\n",
      "KO.AKDN.--.HNE | 2014-06-19T20:32:13.000000Z - 2014-06-19T20:34:47.000000Z | 100.0 Hz, 15401 samples (passed)\n",
      "KO.AKDN.--.HNN | 2014-06-19T20:32:13.000000Z - 2014-06-19T20:34:47.000000Z | 100.0 Hz, 15401 samples (passed)\n",
      "KO.AKDN.--.HNZ | 2014-06-19T20:32:13.000000Z - 2014-06-19T20:34:47.000000Z | 100.0 Hz, 15401 samples (passed)\n",
      "3 StationTrace(s) in StationStream (passed):\n",
      "KO.AKDN.--.HNE | 2014-06-19T20:32:13.000000Z - 2014-06-19T20:34:47.000000Z | 100.0 Hz, 15401 samples (passed)\n",
      "KO.AKDN.--.HNN | 2014-06-19T20:32:13.000000Z - 2014-06-19T20:34:47.000000Z | 100.0 Hz, 15401 samples (passed)\n",
      "KO.AKDN.--.HNZ | 2014-06-19T20:32:13.000000Z - 2014-06-19T20:34:47.000000Z | 100.0 Hz, 15401 samples (passed)\n",
      "3 StationTrace(s) in StationStream (passed):\n",
      "KO.AKDN.--.HNE | 2014-06-19T20:32:13.000000Z - 2014-06-19T20:34:47.000000Z | 100.0 Hz, 15401 samples (passed)\n",
      "KO.AKDN.--.HNN | 2014-06-19T20:32:13.000000Z - 2014-06-19T20:34:47.000000Z | 100.0 Hz, 15401 samples (passed)\n",
      "KO.AKDN.--.HNZ | 2014-06-19T20:32:13.000000Z - 2014-06-19T20:34:47.000000Z | 100.0 Hz, 15401 samples (passed)\n",
      "3 StationTrace(s) in StationStream (passed):\n",
      "KO.AKDN.--.HNE | 2014-06-19T20:32:13.000000Z - 2014-06-19T20:34:47.000000Z | 100.0 Hz, 15401 samples (passed)\n",
      "KO.AKDN.--.HNN | 2014-06-19T20:32:13.000000Z - 2014-06-19T20:34:47.000000Z | 100.0 Hz, 15401 samples (passed)\n",
      "KO.AKDN.--.HNZ | 2014-06-19T20:32:13.000000Z - 2014-06-19T20:34:47.000000Z | 100.0 Hz, 15401 samples (passed)\n",
      "Finishing event ci38038071\n",
      "INFO 2020-04-09 19:33:10 | gmprocess.main: 1 workspace files created\n",
      "\n",
      "The following files have been created:\n",
      "File type: shakemap\n",
      "\ttest/ci38038071/shakemap.xlsx\n",
      "\n",
      "Elapsed processing time: 0 minutes, 1 seconds.\n",
      "\n",
      "Processing is complete.\n",
      "\n"
     ]
    }
   ],
   "source": [
    "!gmprocess -o test --shakemap"
   ]
  },
  {
   "cell_type": "code",
   "execution_count": 25,
   "metadata": {},
   "outputs": [
    {
     "name": "stdout",
     "output_type": "stream",
     "text": [
      "/home/arman/miniconda3/lib/python3.7/site-packages/obspy/core/util/base.py:388: UserWarning: 'Proj.proj_version' is deprecated. Please use `pyproj.proj_version_str` instead.\n",
      "  if hasattr(_proj, 'proj_version'):\n",
      "/home/arman/miniconda3/lib/python3.7/site-packages/obspy/core/util/base.py:389: UserWarning: 'Proj.proj_version' is deprecated. Please use `pyproj.proj_version_str` instead.\n",
      "  version_string = str(getattr(_proj, 'proj_version'))\n",
      "Creating tables for event ci38038071...\n",
      "/home/arman/miniconda3/lib/python3.7/site-packages/obspy/core/event/resourceid.py:628: UserWarning: overwritting the id attribute of a ResourceIdentifierobject is very dangerous and will raise an exception in a future version of obspy\n",
      "warnings.warn(msg, UserWarning)\n",
      "\n",
      "Finishing event ci38038071\n",
      "INFO 2020-04-09 19:34:13 | gmprocess.main: 1 workspace files created\n",
      "WARNING 2020-04-09 19:34:13 | gmprocess.main: No IMC tables found. It is likely that no streams\n",
      "            passed checks. If you created reports for the events you\n",
      "            have been processing, check those to see if this is the case,\n",
      "            then adjust your configuration as necessary to process the data.\n",
      "            \n",
      "\n",
      "The following files have been created:\n",
      "File type: Tables\n",
      "\ttest/events.csv\n",
      "\ttest/fit_spectra_parameters.csv\n",
      "\ttest/fit_spectra_parameters_README.csv\n",
      "\n",
      "Elapsed processing time: 0 minutes, 0 seconds.\n",
      "\n",
      "Processing is complete.\n",
      "\n"
     ]
    }
   ],
   "source": [
    "!gmprocess -o test --export"
   ]
  }
 ],
 "metadata": {
  "kernelspec": {
   "display_name": "Python 3",
   "language": "python",
   "name": "python3"
  },
  "language_info": {
   "codemirror_mode": {
    "name": "ipython",
    "version": 3
   },
   "file_extension": ".py",
   "mimetype": "text/x-python",
   "name": "python",
   "nbconvert_exporter": "python",
   "pygments_lexer": "ipython3",
   "version": "3.7.6"
  }
 },
 "nbformat": 4,
 "nbformat_minor": 4
}
